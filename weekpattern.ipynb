{
 "cells": [
  {
   "cell_type": "code",
   "execution_count": null,
   "metadata": {},
   "outputs": [],
   "source": [
    "import pandas as pd\n",
    "import plotly as px"
   ]
  },
  {
   "cell_type": "code",
   "execution_count": null,
   "metadata": {},
   "outputs": [],
   "source": [
    "def read_fixture(fixture: str, rule='T'):\n",
    "    #Legge CSV\n",
    "    df = pd.read_csv(f'./data/feed_{fixture}.MYD.csv', delimiter=' ', header=None, names=['date', fixture])\n",
    "    df['date'] = pd.to_datetime(df['date'], unit='s')\n",
    "    # Rinomina la colonna fixture in 'consumption'\n",
    "    df.rename(columns={fixture: 'consumption'}, inplace=True)\n",
    "    df.set_index('date', inplace=True)\n",
    "    # Resample il DataFrame usando la frequenza specificata (minutale 'T')\n",
    "    df_minutely = df.resample(rule).sum()\n",
    "    \n",
    "    # Ora raggruppiamo i dati minutali in giornate\n",
    "    df_daily = df_minutely.resample('D').sum()\n",
    "    \n",
    "    # Creare un range di date da 1/1/2019 a 31/1/2019\n",
    "    date_rng = pd.date_range(start='13/02/2019', end='28/02/2019', freq='D')\n",
    "    \n",
    "    # Creare un DataFrame vuoto con il range di date specificato\n",
    "    df_final = pd.DataFrame(date_rng, columns=['date'])\n",
    "    df_final.set_index('date', inplace=True)\n",
    "    \n",
    "    # Unire il DataFrame giornaliero con il DataFrame vuoto per assicurarsi che tutte le date siano presenti\n",
    "    df_final = df_final.join(df_daily, how='left').fillna(0)\n",
    "    \n",
    "    return df_final"
   ]
  },
  {
   "cell_type": "code",
   "execution_count": null,
   "metadata": {},
   "outputs": [],
   "source": [
    "def range_plot(df):\n",
    "    fig = px.line(df, y='consumption', labels={'consumption': 'Volume [L]'})\n",
    "    fig.update_xaxes()\n",
    "    fig.update_yaxes(fixedrange=False)\n",
    "    fig.update_layout(font=dict(size=22))#grandezza font\n",
    "    fig.show()"
   ]
  },
  {
   "cell_type": "code",
   "execution_count": null,
   "metadata": {},
   "outputs": [],
   "source": [
    "df_washbasin = read_fixture('Washbasin')\n",
    "display(df_washbasin)\n",
    "df_washbasin.plot()"
   ]
  }
 ],
 "metadata": {
  "language_info": {
   "name": "python"
  }
 },
 "nbformat": 4,
 "nbformat_minor": 2
}
